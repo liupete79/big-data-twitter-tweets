{
 "cells": [
  {
   "cell_type": "code",
   "execution_count": 124,
   "metadata": {},
   "outputs": [],
   "source": [
    "import tweepy\n",
    "import time\n",
    "import re\n",
    "from tweepy.streaming import StreamListener\n",
    "from tweepy import OAuthHandler\n",
    "from tweepy import API\n",
    "\n",
    "#Consumer Keys and Secret Keys\n",
    "C_Key = 'WdhSPWybuGrmCnkxg3lZTdnSW'\n",
    "C_Secret = 'pAR11gtINGyakEvyWOE6M8owsE6Is6iHhMjoQ3C1naLIU7jsyd'\n",
    "A_Key = '1171901678825672705-rPSgy9QM7IyIDUYrqphFLMpSTSA1l8'\n",
    "A_Secret = 'PhpBnSzMR9qjdtA76ZAqUZ9m6169RELd49YBmGAEkixE2'\n",
    "\n",
    "auth = tweepy.OAuthHandler(C_Key, C_Secret)\n",
    "auth.set_access_token(A_Key, A_Secret)\n",
    "api = tweepy.API(auth)"
   ]
  },
  {
   "cell_type": "code",
   "execution_count": 140,
   "metadata": {},
   "outputs": [],
   "source": [
    "'''\n",
    "class Listener(StreamListener):\n",
    "    \n",
    "    def __init__(self, time_limit=60):\n",
    "        self.start_time = time.time()\n",
    "        self.limit = time_limit\n",
    "        self.outFile = open(\"/Users/PeterLiu/Desktop/CSE_482/AnYa_tweets.json\", 'a')\n",
    "        super(Listener, self).__init__()\n",
    "        \n",
    "    def on_data(self, data):\n",
    "        if (time.time() - self.start_time) < self.limit:\n",
    "            self.outFile.write(data)\n",
    "            self.outFile.write('\\n')\n",
    "            return True\n",
    "        else:\n",
    "            self.outFile.close()\n",
    "            return False\n",
    "        \n",
    "    def on_error(self, status):\n",
    "        print (status)\n",
    "'''\n",
    "def get_tweets(query, count = 10): \n",
    "    ''' \n",
    "    Main function to fetch tweets and parse them. \n",
    "    '''\n",
    "    # empty list to store parsed tweets \n",
    "    tweets = [] \n",
    "  \n",
    "    try: \n",
    "        # call twitter api to fetch tweets \n",
    "        fetched_tweets = api.search(q = query, count = count) \n",
    "  \n",
    "        # parsing tweets one by one \n",
    "        for tweet in fetched_tweets: \n",
    "            # empty dictionary to store required params of a tweet \n",
    "            parsed_tweet = {} \n",
    "  \n",
    "            # saving text of tweet\n",
    "            if (not tweet.retweeted) and (tweet.place):\n",
    "                parsed_tweet['text'] = tweet.text\n",
    "                parsed_tweet['time'] = tweet.created_at\n",
    "                parsed_tweet['place'] = tweet.place\n",
    "                \n",
    "                tweets.append(parsed_tweet)\n",
    "                \n",
    "            '''\n",
    "            # appending parsed tweet to tweets list \n",
    "            if tweet.retweet_count > 0: \n",
    "                # if tweet has retweets, ensure that it is appended only once \n",
    "                if parsed_tweet not in tweets: \n",
    "                    tweets.append(parsed_tweet) \n",
    "                else: \n",
    "                    tweets.append(parsed_tweet) \n",
    "            '''\n",
    "  \n",
    "        # return parsed tweets \n",
    "        return tweets \n",
    "  \n",
    "    except tweepy.TweepError as e: \n",
    "        # print error (if any) \n",
    "        print(\"Error : \" + str(e)) \n",
    "\n",
    "\n",
    "        \n",
    "def clean_tweet(self, tweet):\n",
    "    ''' \n",
    "    Utility function to clean tweet text by removing links, special characters \n",
    "    using simple regex statements. \n",
    "    '''\n",
    "    return ' '.join(re.sub(\"(@[A-Za-z0-9]+)|([^0-9A-Za-z \\t])|(\\w+:\\/\\/\\S+)\", \" \", tweet).split()) "
   ]
  },
  {
   "cell_type": "code",
   "execution_count": 141,
   "metadata": {},
   "outputs": [],
   "source": [
    "#myStream = tweepy.Stream(auth, Listener(time_limit = 60))\n",
    "#myStream.filter(track=['Andrew Yang'])"
   ]
  },
  {
   "cell_type": "code",
   "execution_count": 142,
   "metadata": {},
   "outputs": [
    {
     "name": "stdout",
     "output_type": "stream",
     "text": [
      "{'text': 'Tell Me Nov 3rd💔 #music #rap #rapper #femalerapper #explore #trending #beemusic #myrtlebeach #southcarolina https://t.co/rf0s5SRjO3', 'time': datetime.datetime(2019, 10, 31, 17, 52, 40), 'place': Place(_api=<tweepy.api.API object at 0x110c1a310>, id='17a83a55221b0671', url='https://api.twitter.com/1.1/geo/id/17a83a55221b0671.json', place_type='city', name='Myrtle Beach', full_name='Myrtle Beach, SC', country_code='US', country='United States', contained_within=[], bounding_box=BoundingBox(_api=<tweepy.api.API object at 0x110c1a310>, type='Polygon', coordinates=[[[-78.991697, 33.617059], [-78.766035, 33.617059], [-78.766035, 33.7897222], [-78.991697, 33.7897222]]]), attributes={})}\n",
      "{'text': 'Bout To Be On Some Old School Rap👀Coming Soon🎯 #rap #rapper #femalerapper #music #newmusic #explore #trending… https://t.co/nF6aTOJa0P', 'time': datetime.datetime(2019, 10, 31, 17, 40, 35), 'place': Place(_api=<tweepy.api.API object at 0x110c1a310>, id='17a83a55221b0671', url='https://api.twitter.com/1.1/geo/id/17a83a55221b0671.json', place_type='city', name='Myrtle Beach', full_name='Myrtle Beach, SC', country_code='US', country='United States', contained_within=[], bounding_box=BoundingBox(_api=<tweepy.api.API object at 0x110c1a310>, type='Polygon', coordinates=[[[-78.991697, 33.617059], [-78.766035, 33.617059], [-78.766035, 33.7897222], [-78.991697, 33.7897222]]]), attributes={})}\n"
     ]
    }
   ],
   "source": [
    "tweets = get_tweets(query = '#trending', count = 100000000)\n",
    "for tweet in tweets:\n",
    "    print(tweet)"
   ]
  },
  {
   "cell_type": "code",
   "execution_count": null,
   "metadata": {},
   "outputs": [],
   "source": []
  }
 ],
 "metadata": {
  "kernelspec": {
   "display_name": "Python 3",
   "language": "python",
   "name": "python3"
  },
  "language_info": {
   "codemirror_mode": {
    "name": "ipython",
    "version": 3
   },
   "file_extension": ".py",
   "mimetype": "text/x-python",
   "name": "python",
   "nbconvert_exporter": "python",
   "pygments_lexer": "ipython3",
   "version": "3.7.4"
  }
 },
 "nbformat": 4,
 "nbformat_minor": 2
}
